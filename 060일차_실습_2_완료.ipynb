{
  "nbformat": 4,
  "nbformat_minor": 0,
  "metadata": {
    "colab": {
      "provenance": [],
      "authorship_tag": "ABX9TyNb4xBN/bPLqzMTUnPzXGXd",
      "include_colab_link": true
    },
    "kernelspec": {
      "name": "python3",
      "display_name": "Python 3"
    },
    "language_info": {
      "name": "python"
    }
  },
  "cells": [
    {
      "cell_type": "markdown",
      "metadata": {
        "id": "view-in-github",
        "colab_type": "text"
      },
      "source": [
        "<a href=\"https://colab.research.google.com/github/sdkim96/company2/blob/master/060%EC%9D%BC%EC%B0%A8_%EC%8B%A4%EC%8A%B5_2_%EC%99%84%EB%A3%8C.ipynb\" target=\"_parent\"><img src=\"https://colab.research.google.com/assets/colab-badge.svg\" alt=\"Open In Colab\"/></a>"
      ]
    },
    {
      "cell_type": "code",
      "execution_count": 2,
      "metadata": {
        "id": "ssVtYMtTOgai"
      },
      "outputs": [],
      "source": [
        "import sqlite3 "
      ]
    },
    {
      "cell_type": "code",
      "source": [
        "print(sqlite3.sqlite_version_info)"
      ],
      "metadata": {
        "colab": {
          "base_uri": "https://localhost:8080/"
        },
        "id": "kHR7_6V2PkVo",
        "outputId": "4f94ed75-1a7d-4afe-b068-10f78afd267f"
      },
      "execution_count": 4,
      "outputs": [
        {
          "output_type": "stream",
          "name": "stdout",
          "text": [
            "(3, 31, 1)\n"
          ]
        }
      ]
    },
    {
      "cell_type": "code",
      "source": [
        "import sqlite3\n",
        "print(sqlite3.sqlite_version_info) \n",
        "\n",
        "# 예외처리할거기 때문에 try, except문으로 접근함\n",
        "try: \n",
        "  conn = sqlite3.connect(\"sqlite_db\") #.connect() -> 새로운 디비 생성함\n",
        "  cursor = conn.cursor()\n",
        "  # cursor는 행 집합의 한 행을 가리키는 포인터 같은 느낌임. 마치 컴퓨터의 커서역할\n",
        "  sql = \"create table if not exists text_table(name text(10), phone text(15), addr text(50))\"\n",
        "  # text_table이 없으면 그런 이름을 가진 새로운 디비 테이블을 만들어라. 칼럼명, 자료형, 제약조건 순으로\n",
        "  cursor.execute(sql)\n",
        "\n",
        "  ############### 1번째 활동 #################\n",
        "  cursor.execute(\"insert into text_table values('홍길동','010-1111-1111', '서울시')\")\n",
        "  cursor.execute(\"insert into text_table values('이순신','010-2222-2222', '해남시')\")\n",
        "  cursor.execute(\"insert into text_table values('홍길동','010-1111-2111', '평양시')\")\n",
        "  # 위 3가지의 sql문을 실행함, 위 3가지의 sql문은 CRUD의 C에 속함. C는 insert명령어 사용하기 때문임.\n",
        "  # 레코드 입력\n",
        "\n",
        "  conn.commit()\n",
        "  # 얘는 커서를 안쓰는게, 위의 sql문을 제출하는거 때문임. 여기서 conn은 우리 첫번째 디비모델의 객체임.\n",
        "\n",
        "\n",
        "  ############# 2번째 활동 ######################\n",
        "  cursor.execute(\"select * from text_table\")\n",
        "  # 텍스트 테이블에서 모든 요소를 다 가져와서,\n",
        "  rows = cursor.fetchall()\n",
        "  # rows 변수에 모든 레코드 요소를 다 집어넣어라 (fetch all)\n",
        "\n",
        "  for row in rows:\n",
        "    # 각각의 rows 안의 row에 대해서\n",
        "    print(row)\n",
        "    # 레코드 하나씩 프린트해라. -> 이 결과값은 보통 자료형이 튜플의 형태로 들어감.\n",
        "\n",
        "  print('이름 \\t전화번호 \\t주소')\n",
        "  for row in rows:\n",
        "    print(row[0], '\\t',row[1], '\\t',row[2])\n",
        "    # 이번엔 튜플 형태가 아니라 코더가 정해준 형식대로 프린트하게됨\n",
        "\n",
        "except Exception as e:\n",
        "  print('db 연동 실패 :', e)\n",
        "  # 예외처리\n",
        "  con.rollback() # 실행 취소\n",
        "finally:\n",
        "  cursor.close()\n",
        "  conn.close()\n",
        "# 이거 중요함. 만약 cursor.close()를 하지 않는다면, 코더가 나중에 잘못해서 cursor에 대해 무엇인가를\n",
        "# 실행한다면, 잘못된 값을 집어넣어서 db가 엉망이 될 가능성이 있음."
      ],
      "metadata": {
        "colab": {
          "base_uri": "https://localhost:8080/"
        },
        "id": "m7mEvgV2PoYA",
        "outputId": "4edc3e3f-6c9a-44a3-b423-65d69767bbca"
      },
      "execution_count": 80,
      "outputs": [
        {
          "output_type": "stream",
          "name": "stdout",
          "text": [
            "(3, 31, 1)\n",
            "('홍길동', '010-1111-1111', '서울시')\n",
            "('이순신', '010-2222-2222', '해남시')\n",
            "('홍길동', '010-1111-2111', '평양시')\n",
            "('홍길동', '010-1111-1111', '서울시')\n",
            "('이순신', '010-2222-2222', '해남시')\n",
            "('홍길동', '010-1111-2111', '평양시')\n",
            "('홍길동', '010-1111-1111', '서울시')\n",
            "('이순신', '010-2222-2222', '해남시')\n",
            "('홍길동', '010-1111-2111', '평양시')\n",
            "('홍길동', '010-1111-1111', '서울시')\n",
            "('이순신', '010-2222-2222', '해남시')\n",
            "('홍길동', '010-1111-2111', '평양시')\n",
            "('홍길동', '010-1111-1111', '서울시')\n",
            "('이순신', '010-2222-2222', '해남시')\n",
            "('홍길동', '010-1111-2111', '평양시')\n",
            "('홍길동', '010-1111-1111', '서울시')\n",
            "('이순신', '010-2222-2222', '해남시')\n",
            "('홍길동', '010-1111-2111', '평양시')\n",
            "('홍길동', '010-1111-1111', '서울시')\n",
            "('이순신', '010-2222-2222', '해남시')\n",
            "('홍길동', '010-1111-2111', '평양시')\n",
            "이름 \t전화번호 \t주소\n",
            "홍길동 \t 010-1111-1111 \t 서울시\n",
            "이순신 \t 010-2222-2222 \t 해남시\n",
            "홍길동 \t 010-1111-2111 \t 평양시\n",
            "홍길동 \t 010-1111-1111 \t 서울시\n",
            "이순신 \t 010-2222-2222 \t 해남시\n",
            "홍길동 \t 010-1111-2111 \t 평양시\n",
            "홍길동 \t 010-1111-1111 \t 서울시\n",
            "이순신 \t 010-2222-2222 \t 해남시\n",
            "홍길동 \t 010-1111-2111 \t 평양시\n",
            "홍길동 \t 010-1111-1111 \t 서울시\n",
            "이순신 \t 010-2222-2222 \t 해남시\n",
            "홍길동 \t 010-1111-2111 \t 평양시\n",
            "홍길동 \t 010-1111-1111 \t 서울시\n",
            "이순신 \t 010-2222-2222 \t 해남시\n",
            "홍길동 \t 010-1111-2111 \t 평양시\n",
            "홍길동 \t 010-1111-1111 \t 서울시\n",
            "이순신 \t 010-2222-2222 \t 해남시\n",
            "홍길동 \t 010-1111-2111 \t 평양시\n",
            "홍길동 \t 010-1111-1111 \t 서울시\n",
            "이순신 \t 010-2222-2222 \t 해남시\n",
            "홍길동 \t 010-1111-2111 \t 평양시\n"
          ]
        }
      ]
    },
    {
      "cell_type": "code",
      "source": [
        "# 두번째 예제는 sqlite_db2라는 이름을 가진 디비에 대한 sql내용임.\n",
        "try:\n",
        "  conn2 = sqlite3.connect(\"sqlite_db2\")\n",
        "  cursor2 = conn2.cursor()\n",
        "  sql2 = \"\"\"create table if not exists goods(\n",
        "    code integer primary key,\n",
        "    name text(30) unique not null,\n",
        "    su integer default 0,\n",
        "    dan real default 0.0 )\n",
        "    \"\"\"\n",
        "  # goods 테이블을 만들어라. 이름 자료형 제약조건 순으로\n",
        "  # 여기서 중요한건 unique 제약조건 vs primary key 제약조건의 차이인데,\n",
        "  # 'unique'은 단순히 열의 값을 고유하게 유지하는 제약 조건이고, \n",
        "  # 'primary key'는 열의 값을 고유하게 유지하면서 !!!!!!!행을 식별하는!!!!!!!!! 주요 식별자로 사용되는 열이다.\n",
        "\n",
        "  cursor2.execute(sql2)\n",
        "\n",
        "  ############### 1번째 활동 #################\n",
        "  # cursor2.execute(\"insert into goods values(1,'냉장고', 2, 8500000)\")\n",
        "  # cursor2.execute(\"insert into goods values(2,'세탁기', 3, 5500000)\")\n",
        "  # cursor2.execute(\"insert into goods(code, name) values(3, '전자레인지')\")\n",
        "  # cursor2.execute(\"insert into goods(code, name, dan) values (4,'HDTV',1500000)\")\n",
        "  # conn2.commit()\n",
        "\n",
        "  # 위 5행의 C문은 한번 실행되고 나서는 주석처리되어야 한다. 만약 한번 더 만들려고 하면 goods.code\n",
        "  # 에서 오류가 나게 됨. 첫번째 디비랑의 차이는 결국 unique와 primary key 제약조건 때문이다.\n",
        "\n",
        "  ############### 2번째 활동 #################\n",
        "  sql2 = \"select * from goods\"\n",
        "  # goods 테이블에서 모든 요소를 다 가져와서\n",
        "  cursor2.execute(sql2)\n",
        "  rows2 = cursor2.fetchall() # 모든 레코드 가져오기\n",
        "  for row in rows2:\n",
        "    print(row[0] , row[1] , row[2] , row[3])\n",
        "    print('검색된 레코드 수:',len(rows2))\n",
        "\n",
        "  ############### 3번째 활동 #################\n",
        "  name = input(\"상품명 입력:\")\n",
        "  sql2 = f\"select * from goods where name like '%{name}%'\"\n",
        "  # 상품명을 입력받는데, 만약 어떤 레코드의 name 값이 입력값을 포함한 값이 있으면 그 레코드를 튜플형식으로 가져오는거다.\n",
        "  # CRUD의 R라고 할 수 있다.\n",
        "  cursor2.execute(sql2)\n",
        "  rows2 = cursor2.fetchall()\n",
        "\n",
        "  if rows2: \n",
        "    for row in rows2:\n",
        "      print(row)\n",
        "  else:\n",
        "    print('검색된 결과 없음')\n",
        "\n",
        "except Exception as e:\n",
        "  print('db 연동 실패 :', e)\n",
        "  conn2.rollback()"
      ],
      "metadata": {
        "colab": {
          "base_uri": "https://localhost:8080/"
        },
        "id": "hsqsZD-CYzkZ",
        "outputId": "70ea7a1b-af51-4d9f-d256-2e50b97a6dac"
      },
      "execution_count": 81,
      "outputs": [
        {
          "output_type": "stream",
          "name": "stdout",
          "text": [
            "1 냉장고 8 40000.0\n",
            "검색된 레코드 수: 5\n",
            "2 세탁기 3 5500000.0\n",
            "검색된 레코드 수: 5\n",
            "3 전자레인지 0 0.0\n",
            "검색된 레코드 수: 5\n",
            "4 HDTV 0 1500000.0\n",
            "검색된 레코드 수: 5\n",
            "5 허허허 2 50000.0\n",
            "검색된 레코드 수: 5\n",
            "상품명 입력:허\n",
            "(5, '허허허', 2, 50000.0)\n"
          ]
        }
      ]
    },
    {
      "cell_type": "code",
      "source": [
        "############### 4번째 활동 ################# C of CRUD\n",
        "code = int(input('code 입력 : '))\n",
        "name = input('name 입력 : ')\n",
        "su = int(input('su 입력 : '))\n",
        "dan = float(input('dan 입력 : '))\n",
        "# 각각의 row값의 속성을 입력받아서\n",
        "\n",
        "sql2 = f\"insert into goods values({code},'{name}',{su},{dan})\"\n",
        "# 새로운 레코드를 생성하는 활동 C of CRUD\n",
        "cursor2.execute(sql2)\n",
        "conn2.commit()"
      ],
      "metadata": {
        "colab": {
          "base_uri": "https://localhost:8080/"
        },
        "id": "p-Gx6si3eWiq",
        "outputId": "35166660-9191-4b9e-8f6d-1acea8ea5326"
      },
      "execution_count": 82,
      "outputs": [
        {
          "name": "stdout",
          "output_type": "stream",
          "text": [
            "code 입력 : 6\n",
            "name 입력 : 랄랄랄\n",
            "su 입력 : 5\n",
            "dan 입력 : 90000\n"
          ]
        }
      ]
    },
    {
      "cell_type": "code",
      "source": [
        "############### 5번째 활동 ################# U of CRUD\n",
        "modify_code = int(input('수정할 code 입력 : '))\n",
        "modify_name = input('수정할 name 입력 : ')\n",
        "modify_su = int(input('수정할 su 입력 : '))\n",
        "modify_dan = float(input('수정할 dan 입력 : '))\n",
        "# 사용자로부터 수정할 code, name, su, dan을 입력받습니다.\n",
        "\n",
        "sql2 = f\"update goods set su ={modify_su}, dan={modify_dan}, name='{modify_name}' where code = {modify_code}\"\n",
        "cursor2.execute(sql2)\n",
        "# 이 입력을 통해 SQL UPDATE 쿼리를 생성\n",
        "conn2.commit()"
      ],
      "metadata": {
        "colab": {
          "base_uri": "https://localhost:8080/"
        },
        "id": "h3ukavmvjdXL",
        "outputId": "3805cf7b-8d27-4733-943f-53fcc01cd261"
      },
      "execution_count": 84,
      "outputs": [
        {
          "name": "stdout",
          "output_type": "stream",
          "text": [
            "수정할 code 입력 : 1\n",
            "수정할 name 입력 : 랄라\n",
            "수정할 su 입력 : 52\n",
            "수정할 dan 입력 : 669990\n"
          ]
        }
      ]
    },
    {
      "cell_type": "code",
      "source": [
        "############### 6번째 활동 ################# D of CRUD\n",
        "# 사용자에게 삭제할 'code'를 입력 받음\n",
        "delete_code = int(input('삭제할 code 입력 : ')) \n",
        "\n",
        "# 사용자가 입력한 'code'와 일치하는 'goods' 테이블의 레코드를 삭제하는 SQL 쿼리를 생성\n",
        "sql2 = f\"delete from goods where code = {delete_code}\"\n",
        "# SQL 쿼리 실행\n",
        "cursor2.execute(sql2)\n",
        "# 데이터베이스에 대한 변경사항 확정\n",
        "conn2.commit()"
      ],
      "metadata": {
        "colab": {
          "base_uri": "https://localhost:8080/"
        },
        "id": "5HC2wUoTkZIE",
        "outputId": "3979c390-524b-4dbb-94cd-cc8d1b131043"
      },
      "execution_count": 85,
      "outputs": [
        {
          "name": "stdout",
          "output_type": "stream",
          "text": [
            "삭제할 code 입력 : 6\n"
          ]
        }
      ]
    },
    {
      "cell_type": "code",
      "source": [
        "############### 7번째 활동 ################# R of CRUD\n",
        "# 'goods' 테이블에서 모든 레코드를 선택하는 SQL 쿼리 실행\n",
        "sql2 = \"select * from goods\"\n",
        "cursor2.execute(sql2)\n",
        "# 모든 결과를 받아옴\n",
        "rows2 = cursor2.fetchall()\n",
        "\n",
        "# 각 행에 대해 순회하며 각 필드를 출력\n",
        "for row in rows2:\n",
        "  print(row[0], row[1], row[2], row[3])\n",
        "# 검색된 레코드 수를 출력\n",
        "print('검색된 레코드 수 :',len(rows2))"
      ],
      "metadata": {
        "colab": {
          "base_uri": "https://localhost:8080/"
        },
        "id": "DZDOdsIJlTNj",
        "outputId": "2019d8d9-74c1-4a73-bf91-02e320b7a81d"
      },
      "execution_count": 86,
      "outputs": [
        {
          "output_type": "stream",
          "name": "stdout",
          "text": [
            "1 랄라 52 669990.0\n",
            "2 세탁기 3 5500000.0\n",
            "3 전자레인지 0 0.0\n",
            "4 HDTV 0 1500000.0\n",
            "5 허허허 2 50000.0\n",
            "검색된 레코드 수 : 21\n"
          ]
        }
      ]
    },
    {
      "cell_type": "code",
      "source": [
        "############### 8번째 활동 ################# R of CRUD\n",
        "# 사용자로부터 상품명을 입력 받음\n",
        "name = input(\"상품명 입력:\")\n",
        "# 입력된 상품명이 포함된 모든 레코드를 검색하는 SQL 쿼리를 생성\n",
        "sql = f\"select * from goods where name like '%{name}%'\"\n",
        "# SQL 쿼리 실행\n",
        "cursor2.execute(sql)\n",
        "# 모든 결과를 받아옴\n",
        "rows = cursor2.fetchall()\n",
        "\n",
        "# 결과가 있을 경우 각 행을 출력, 없을 경우 메시지 출력\n",
        "if rows: # null false\n",
        "  for row in rows:\n",
        "    print(row)\n",
        "else:\n",
        "  print( '검색된 레코드 없음')"
      ],
      "metadata": {
        "colab": {
          "base_uri": "https://localhost:8080/"
        },
        "id": "GzIQ_REhpZU7",
        "outputId": "6e1eb4c6-a782-420f-c2ae-57a7dd8b8c35"
      },
      "execution_count": 87,
      "outputs": [
        {
          "output_type": "stream",
          "name": "stdout",
          "text": [
            "상품명 입력:랄\n",
            "(1, '랄라', 52, 669990.0)\n"
          ]
        }
      ]
    }
  ]
}